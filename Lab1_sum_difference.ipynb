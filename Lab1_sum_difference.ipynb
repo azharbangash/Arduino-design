{
  "nbformat": 4,
  "nbformat_minor": 0,
  "metadata": {
    "colab": {
      "provenance": [],
      "authorship_tag": "ABX9TyMUUrRG0LBBZGD7Eux39dwh",
      "include_colab_link": true
    },
    "kernelspec": {
      "name": "python3",
      "display_name": "Python 3"
    },
    "language_info": {
      "name": "python"
    }
  },
  "cells": [
    {
      "cell_type": "markdown",
      "metadata": {
        "id": "view-in-github",
        "colab_type": "text"
      },
      "source": [
        "<a href=\"https://colab.research.google.com/github/azharbangash/Arduino-design/blob/main/Lab1_sum_difference.ipynb\" target=\"_parent\"><img src=\"https://colab.research.google.com/assets/colab-badge.svg\" alt=\"Open In Colab\"/></a>"
      ]
    },
    {
      "cell_type": "code",
      "execution_count": 4,
      "metadata": {
        "colab": {
          "base_uri": "https://localhost:8080/"
        },
        "id": "qUMPAJioptwA",
        "outputId": "c37c368b-70fa-4730-e604-f75940ef4c97"
      },
      "outputs": [
        {
          "output_type": "stream",
          "name": "stdout",
          "text": [
            "Enter first number: 7\n",
            "Enter second number: 10\n",
            "Sum of entered number is: 17\n",
            "difference of entered number is: -3\n",
            "multiplication of entered number is: 70\n",
            "quotient of entered number is: 0.7\n"
          ]
        }
      ],
      "source": [
        "num1=int(input(\"Enter first number: \"))\n",
        "num2=int(input(\"Enter second number: \"))\n",
        "sum=num1+num2\n",
        "dif=num1-num2\n",
        "mul=num1*num2\n",
        "quo=num1/num2\n",
        "print(\"Sum of entered number is:\",sum)\n",
        "print(\"difference of entered number is:\",dif)\n",
        "print(\"multiplication of entered number is:\",mul)\n",
        "print(\"quotient of entered number is:\",quo)"
      ]
    }
  ]
}